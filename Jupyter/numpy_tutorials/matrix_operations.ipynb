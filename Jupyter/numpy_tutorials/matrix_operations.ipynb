{
 "cells": [
  {
   "cell_type": "code",
   "execution_count": 1,
   "id": "fa50da1b",
   "metadata": {},
   "outputs": [],
   "source": [
    "import numpy as np"
   ]
  },
  {
   "cell_type": "code",
   "execution_count": 2,
   "id": "e6d3993d",
   "metadata": {},
   "outputs": [],
   "source": [
    "m1  = np.array([[2,5,1],[6,7,0],[1,4,9]])"
   ]
  },
  {
   "cell_type": "code",
   "execution_count": 3,
   "id": "74fb5375",
   "metadata": {},
   "outputs": [],
   "source": [
    "m2 = np.array([[3,2,1],[1,2,0],[0,6,3]])"
   ]
  },
  {
   "cell_type": "code",
   "execution_count": 4,
   "id": "759d1fb1",
   "metadata": {},
   "outputs": [
    {
     "data": {
      "text/plain": [
       "array([[2, 5, 1],\n",
       "       [6, 7, 0],\n",
       "       [1, 4, 9]])"
      ]
     },
     "execution_count": 4,
     "metadata": {},
     "output_type": "execute_result"
    }
   ],
   "source": [
    "m1"
   ]
  },
  {
   "cell_type": "code",
   "execution_count": 5,
   "id": "02c8c2d4",
   "metadata": {},
   "outputs": [
    {
     "data": {
      "text/plain": [
       "array([[3, 2, 1],\n",
       "       [1, 2, 0],\n",
       "       [0, 6, 3]])"
      ]
     },
     "execution_count": 5,
     "metadata": {},
     "output_type": "execute_result"
    }
   ],
   "source": [
    "m2"
   ]
  },
  {
   "cell_type": "code",
   "execution_count": 6,
   "id": "9c501952",
   "metadata": {},
   "outputs": [
    {
     "data": {
      "text/plain": [
       "array([[ 5,  7,  2],\n",
       "       [ 7,  9,  0],\n",
       "       [ 1, 10, 12]])"
      ]
     },
     "execution_count": 6,
     "metadata": {},
     "output_type": "execute_result"
    }
   ],
   "source": [
    "m1 + m2"
   ]
  },
  {
   "cell_type": "code",
   "execution_count": 7,
   "id": "8f64811d",
   "metadata": {},
   "outputs": [
    {
     "data": {
      "text/plain": [
       "array([[-1,  3,  0],\n",
       "       [ 5,  5,  0],\n",
       "       [ 1, -2,  6]])"
      ]
     },
     "execution_count": 7,
     "metadata": {},
     "output_type": "execute_result"
    }
   ],
   "source": [
    "m1 - m2"
   ]
  },
  {
   "cell_type": "code",
   "execution_count": 8,
   "id": "cb7101ad",
   "metadata": {},
   "outputs": [
    {
     "data": {
      "text/plain": [
       "array([[ 6, 10,  1],\n",
       "       [ 6, 14,  0],\n",
       "       [ 0, 24, 27]])"
      ]
     },
     "execution_count": 8,
     "metadata": {},
     "output_type": "execute_result"
    }
   ],
   "source": [
    "m1 * m2"
   ]
  },
  {
   "cell_type": "code",
   "execution_count": 9,
   "id": "bb0e9c88",
   "metadata": {},
   "outputs": [],
   "source": [
    "# m1 / m2 works fine if there are no non zero elements"
   ]
  },
  {
   "cell_type": "code",
   "execution_count": 12,
   "id": "15833d3c",
   "metadata": {},
   "outputs": [
    {
     "data": {
      "text/plain": [
       "(array([0, 1, 1, 2]), array([1, 0, 1, 2]))"
      ]
     },
     "execution_count": 12,
     "metadata": {},
     "output_type": "execute_result"
    }
   ],
   "source": [
    "np.where(m1>4)"
   ]
  },
  {
   "cell_type": "code",
   "execution_count": 13,
   "id": "eb0edaa7",
   "metadata": {},
   "outputs": [
    {
     "data": {
      "text/plain": [
       "array([[1.41421356, 2.23606798, 1.        ],\n",
       "       [2.44948974, 2.64575131, 0.        ],\n",
       "       [1.        , 2.        , 3.        ]])"
      ]
     },
     "execution_count": 13,
     "metadata": {},
     "output_type": "execute_result"
    }
   ],
   "source": [
    "np.sqrt(m1)"
   ]
  },
  {
   "cell_type": "code",
   "execution_count": 15,
   "id": "32441ffe",
   "metadata": {},
   "outputs": [
    {
     "data": {
      "text/plain": [
       "7"
      ]
     },
     "execution_count": 15,
     "metadata": {},
     "output_type": "execute_result"
    }
   ],
   "source": [
    "np.count_nonzero(m2) # returns a count of non zero elements"
   ]
  },
  {
   "cell_type": "code",
   "execution_count": 18,
   "id": "eefc8535",
   "metadata": {},
   "outputs": [
    {
     "name": "stdout",
     "output_type": "stream",
     "text": [
      "[[3 2 1]\n",
      " [1 2 0]\n",
      " [0 6 3]]\n"
     ]
    }
   ],
   "source": [
    "print(m2)"
   ]
  },
  {
   "cell_type": "code",
   "execution_count": 19,
   "id": "e410002f",
   "metadata": {},
   "outputs": [
    {
     "data": {
      "text/plain": [
       "(array([0, 0, 0, 1, 1, 2, 2]), array([0, 1, 2, 0, 1, 1, 2]))"
      ]
     },
     "execution_count": 19,
     "metadata": {},
     "output_type": "execute_result"
    }
   ],
   "source": [
    "np.nonzero(m2) # retuns indexes of non zero elements as an array of tuples"
   ]
  },
  {
   "cell_type": "code",
   "execution_count": 20,
   "id": "c1dbef3c",
   "metadata": {},
   "outputs": [],
   "source": [
    "m2[0,0] = 0"
   ]
  },
  {
   "cell_type": "code",
   "execution_count": 22,
   "id": "3fa5c61c",
   "metadata": {},
   "outputs": [
    {
     "data": {
      "text/plain": [
       "(array([0, 0, 1, 1, 2, 2]), array([1, 2, 0, 1, 1, 2]))"
      ]
     },
     "execution_count": 22,
     "metadata": {},
     "output_type": "execute_result"
    }
   ],
   "source": [
    "np.nonzero(m2) # 0,0 index will dissappear now"
   ]
  },
  {
   "cell_type": "code",
   "execution_count": null,
   "id": "45014bf9",
   "metadata": {},
   "outputs": [],
   "source": []
  }
 ],
 "metadata": {
  "kernelspec": {
   "display_name": "Python 3 (ipykernel)",
   "language": "python",
   "name": "python3"
  },
  "language_info": {
   "codemirror_mode": {
    "name": "ipython",
    "version": 3
   },
   "file_extension": ".py",
   "mimetype": "text/x-python",
   "name": "python",
   "nbconvert_exporter": "python",
   "pygments_lexer": "ipython3",
   "version": "3.10.6"
  }
 },
 "nbformat": 4,
 "nbformat_minor": 5
}
