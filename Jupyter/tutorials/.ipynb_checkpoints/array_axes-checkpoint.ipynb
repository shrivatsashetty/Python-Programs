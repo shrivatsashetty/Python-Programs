{
 "cells": [
  {
   "cell_type": "code",
   "execution_count": 1,
   "id": "c55484ad",
   "metadata": {},
   "outputs": [],
   "source": [
    "import numpy as np"
   ]
  },
  {
   "cell_type": "code",
   "execution_count": 2,
   "id": "dcc895b1",
   "metadata": {},
   "outputs": [],
   "source": [
    "A = [[1,0,2],[3,6,1],[0,2,12]]"
   ]
  },
  {
   "cell_type": "code",
   "execution_count": 3,
   "id": "4eb6aa55",
   "metadata": {},
   "outputs": [],
   "source": [
    "matrix1 = np.array(A)"
   ]
  },
  {
   "cell_type": "code",
   "execution_count": 4,
   "id": "6c2a221b",
   "metadata": {},
   "outputs": [
    {
     "data": {
      "text/plain": [
       "array([[ 1,  0,  2],\n",
       "       [ 3,  6,  1],\n",
       "       [ 0,  2, 12]])"
      ]
     },
     "execution_count": 4,
     "metadata": {},
     "output_type": "execute_result"
    }
   ],
   "source": [
    "matrix1"
   ]
  },
  {
   "cell_type": "code",
   "execution_count": 5,
   "id": "53a370d4",
   "metadata": {},
   "outputs": [
    {
     "data": {
      "text/plain": [
       "(3, 3)"
      ]
     },
     "execution_count": 5,
     "metadata": {},
     "output_type": "execute_result"
    }
   ],
   "source": [
    "matrix1.shape"
   ]
  },
  {
   "cell_type": "code",
   "execution_count": 6,
   "id": "0f707886",
   "metadata": {},
   "outputs": [
    {
     "data": {
      "text/plain": [
       "27"
      ]
     },
     "execution_count": 6,
     "metadata": {},
     "output_type": "execute_result"
    }
   ],
   "source": [
    "matrix1.sum() # returns sum of all elements of a matrix"
   ]
  },
  {
   "cell_type": "code",
   "execution_count": 7,
   "id": "d27e1813",
   "metadata": {},
   "outputs": [
    {
     "data": {
      "text/plain": [
       "array([ 4,  8, 15])"
      ]
     },
     "execution_count": 7,
     "metadata": {},
     "output_type": "execute_result"
    }
   ],
   "source": [
    "matrix1.sum(axis=0) # sum along cloumns"
   ]
  },
  {
   "cell_type": "code",
   "execution_count": 8,
   "id": "492f7edf",
   "metadata": {},
   "outputs": [
    {
     "data": {
      "text/plain": [
       "array([ 3, 10, 14])"
      ]
     },
     "execution_count": 8,
     "metadata": {},
     "output_type": "execute_result"
    }
   ],
   "source": [
    "matrix1.sum(axis=1) # sum along rows"
   ]
  },
  {
   "cell_type": "code",
   "execution_count": 9,
   "id": "819b364f",
   "metadata": {},
   "outputs": [
    {
     "name": "stdout",
     "output_type": "stream",
     "text": [
      "The orignal matrix\n",
      " [[ 1  0  2]\n",
      " [ 3  6  1]\n",
      " [ 0  2 12]]\n"
     ]
    }
   ],
   "source": [
    "print(\"The orignal matrix\\n\",matrix1)"
   ]
  },
  {
   "cell_type": "code",
   "execution_count": 10,
   "id": "515c90d7",
   "metadata": {},
   "outputs": [],
   "source": [
    "tmatrix1 = matrix1.T"
   ]
  },
  {
   "cell_type": "code",
   "execution_count": 11,
   "id": "5b1b8447",
   "metadata": {},
   "outputs": [
    {
     "name": "stdout",
     "output_type": "stream",
     "text": [
      "The transpose of the matrix\n",
      " [[ 1  3  0]\n",
      " [ 0  6  2]\n",
      " [ 2  1 12]]\n"
     ]
    }
   ],
   "source": [
    "print(\"The transpose of the matrix\\n\",matrix1.T) # "
   ]
  },
  {
   "cell_type": "code",
   "execution_count": 12,
   "id": "e3d959d6",
   "metadata": {},
   "outputs": [
    {
     "data": {
      "text/plain": [
       "<numpy.flatiter at 0x5639611d4460>"
      ]
     },
     "execution_count": 12,
     "metadata": {},
     "output_type": "execute_result"
    }
   ],
   "source": [
    "matrix1.flat # return an iterator over the array elements"
   ]
  },
  {
   "cell_type": "code",
   "execution_count": 13,
   "id": "13ce0533",
   "metadata": {},
   "outputs": [],
   "source": [
    "flat_arr = matrix1.flatten()"
   ]
  },
  {
   "cell_type": "code",
   "execution_count": 14,
   "id": "5b3470e0",
   "metadata": {},
   "outputs": [
    {
     "data": {
      "text/plain": [
       "array([ 1,  0,  2,  3,  6,  1,  0,  2, 12])"
      ]
     },
     "execution_count": 14,
     "metadata": {},
     "output_type": "execute_result"
    }
   ],
   "source": [
    "flat_arr"
   ]
  },
  {
   "cell_type": "code",
   "execution_count": 15,
   "id": "b11d3577",
   "metadata": {},
   "outputs": [
    {
     "name": "stdout",
     "output_type": "stream",
     "text": [
      "1\n",
      "0\n",
      "2\n",
      "3\n",
      "6\n",
      "1\n",
      "0\n",
      "2\n",
      "12\n"
     ]
    }
   ],
   "source": [
    "for item in matrix1.flat:\n",
    "    print(item)"
   ]
  },
  {
   "cell_type": "code",
   "execution_count": 16,
   "id": "53823d57",
   "metadata": {},
   "outputs": [
    {
     "data": {
      "text/plain": [
       "72"
      ]
     },
     "execution_count": 16,
     "metadata": {},
     "output_type": "execute_result"
    }
   ],
   "source": [
    "matrix1.nbytes"
   ]
  },
  {
   "cell_type": "code",
   "execution_count": 17,
   "id": "aa361fef",
   "metadata": {},
   "outputs": [
    {
     "data": {
      "text/plain": [
       "array([[ 1,  0,  2],\n",
       "       [ 3,  6,  1],\n",
       "       [ 0,  2, 12]])"
      ]
     },
     "execution_count": 17,
     "metadata": {},
     "output_type": "execute_result"
    }
   ],
   "source": [
    "matrix1"
   ]
  },
  {
   "cell_type": "code",
   "execution_count": 18,
   "id": "def5c2a4",
   "metadata": {},
   "outputs": [
    {
     "data": {
      "text/plain": [
       "8"
      ]
     },
     "execution_count": 18,
     "metadata": {},
     "output_type": "execute_result"
    }
   ],
   "source": [
    "matrix1.argmax() # returns least index of biggest element in the array"
   ]
  },
  {
   "cell_type": "code",
   "execution_count": 19,
   "id": "c85b2700",
   "metadata": {},
   "outputs": [
    {
     "data": {
      "text/plain": [
       "array([1, 1, 2])"
      ]
     },
     "execution_count": 19,
     "metadata": {},
     "output_type": "execute_result"
    }
   ],
   "source": [
    "matrix1.argmax(axis=0) # returns an array containing max elements of all columns "
   ]
  },
  {
   "cell_type": "code",
   "execution_count": 20,
   "id": "ea4eddff",
   "metadata": {},
   "outputs": [
    {
     "data": {
      "text/plain": [
       "array([2, 1, 2])"
      ]
     },
     "execution_count": 20,
     "metadata": {},
     "output_type": "execute_result"
    }
   ],
   "source": [
    "matrix1.argmax(axis=1) # returns an array containing max elements of all rows "
   ]
  },
  {
   "cell_type": "code",
   "execution_count": 21,
   "id": "1cb6b88b",
   "metadata": {},
   "outputs": [
    {
     "data": {
      "text/plain": [
       "1"
      ]
     },
     "execution_count": 21,
     "metadata": {},
     "output_type": "execute_result"
    }
   ],
   "source": [
    "matrix1.argmin() # index of smallest element in array"
   ]
  },
  {
   "cell_type": "code",
   "execution_count": 22,
   "id": "b6543316",
   "metadata": {},
   "outputs": [
    {
     "data": {
      "text/plain": [
       "array([2, 0, 1])"
      ]
     },
     "execution_count": 22,
     "metadata": {},
     "output_type": "execute_result"
    }
   ],
   "source": [
    "matrix1.argmin(axis=0)"
   ]
  },
  {
   "cell_type": "code",
   "execution_count": 23,
   "id": "fa6c0046",
   "metadata": {},
   "outputs": [
    {
     "data": {
      "text/plain": [
       "array([1, 2, 0])"
      ]
     },
     "execution_count": 23,
     "metadata": {},
     "output_type": "execute_result"
    }
   ],
   "source": [
    "matrix1.argmin(axis=1)"
   ]
  },
  {
   "cell_type": "code",
   "execution_count": 24,
   "id": "e642449a",
   "metadata": {},
   "outputs": [
    {
     "data": {
      "text/plain": [
       "array([[1, 0, 2],\n",
       "       [2, 0, 1],\n",
       "       [0, 1, 2]])"
      ]
     },
     "execution_count": 24,
     "metadata": {},
     "output_type": "execute_result"
    }
   ],
   "source": [
    "matrix1.argsort()"
   ]
  },
  {
   "cell_type": "code",
   "execution_count": null,
   "id": "5e3e468c",
   "metadata": {},
   "outputs": [],
   "source": []
  }
 ],
 "metadata": {
  "kernelspec": {
   "display_name": "Python 3 (ipykernel)",
   "language": "python",
   "name": "python3"
  },
  "language_info": {
   "codemirror_mode": {
    "name": "ipython",
    "version": 3
   },
   "file_extension": ".py",
   "mimetype": "text/x-python",
   "name": "python",
   "nbconvert_exporter": "python",
   "pygments_lexer": "ipython3",
   "version": "3.10.6"
  }
 },
 "nbformat": 4,
 "nbformat_minor": 5
}
