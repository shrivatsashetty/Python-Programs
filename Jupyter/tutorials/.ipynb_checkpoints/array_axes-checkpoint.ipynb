{
 "cells": [
  {
   "cell_type": "code",
   "execution_count": 1,
   "id": "661c82f2",
   "metadata": {},
   "outputs": [],
   "source": [
    "import numpy as np"
   ]
  },
  {
   "cell_type": "code",
   "execution_count": 2,
   "id": "33f0225a",
   "metadata": {},
   "outputs": [],
   "source": [
    "A = [[1,0,2],[3,6,1],[0,2,8]]"
   ]
  },
  {
   "cell_type": "code",
   "execution_count": 5,
   "id": "8208f1ac",
   "metadata": {},
   "outputs": [],
   "source": [
    "matrix1 = np.array(A)"
   ]
  },
  {
   "cell_type": "code",
   "execution_count": 6,
   "id": "92275539",
   "metadata": {},
   "outputs": [
    {
     "data": {
      "text/plain": [
       "array([[1, 0, 2],\n",
       "       [3, 6, 1],\n",
       "       [0, 2, 8]])"
      ]
     },
     "execution_count": 6,
     "metadata": {},
     "output_type": "execute_result"
    }
   ],
   "source": [
    "matrix1"
   ]
  },
  {
   "cell_type": "code",
   "execution_count": null,
   "id": "4ce7b673",
   "metadata": {},
   "outputs": [],
   "source": [
    "print(matrix1)"
   ]
  }
 ],
 "metadata": {
  "kernelspec": {
   "display_name": "Python 3 (ipykernel)",
   "language": "python",
   "name": "python3"
  },
  "language_info": {
   "codemirror_mode": {
    "name": "ipython",
    "version": 3
   },
   "file_extension": ".py",
   "mimetype": "text/x-python",
   "name": "python",
   "nbconvert_exporter": "python",
   "pygments_lexer": "ipython3",
   "version": "3.10.6"
  }
 },
 "nbformat": 4,
 "nbformat_minor": 5
}
